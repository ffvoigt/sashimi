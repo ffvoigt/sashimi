{
 "cells": [
  {
   "cell_type": "markdown",
   "id": "59a792e3",
   "metadata": {},
   "source": [
    "# Hamamatsu Camera\n"
   ]
  },
  {
   "cell_type": "markdown",
   "id": "a9049f33",
   "metadata": {},
   "source": [
    "###  Free running mode"
   ]
  },
  {
   "cell_type": "code",
   "execution_count": null,
   "id": "b02d9826",
   "metadata": {},
   "outputs": [],
   "source": [
    "from sashimi.hardware.cameras.hamamatsu.interface import *\n",
    "import time\n",
    "import matplotlib.pyplot as plt\n",
    "import numpy as np"
   ]
  },
  {
   "cell_type": "code",
   "execution_count": null,
   "id": "61c234a2",
   "metadata": {},
   "outputs": [],
   "source": [
    "# Initialize camera object (run only once -> if run twice will give error since the camera will be already instantiated)\n",
    "cam = HamamatsuCamera(0, (2048, 2048))\n"
   ]
  },
  {
   "cell_type": "code",
   "execution_count": null,
   "id": "099dd04c",
   "metadata": {},
   "outputs": [],
   "source": [
    "# set trigger mode\n",
    "cam.trigger_mode = TriggerMode.FREE\n"
   ]
  },
  {
   "cell_type": "code",
   "execution_count": null,
   "id": "684ca44d",
   "metadata": {},
   "outputs": [],
   "source": []
  },
  {
   "cell_type": "code",
   "execution_count": null,
   "id": "b223fd43",
   "metadata": {},
   "outputs": [],
   "source": [
    "# record for 1 second\n",
    "cam.start_acquisition()\n",
    "time.sleep(1)\n",
    "test = cam.get_frames()\n",
    "cam.stop_acquisition()\n",
    "\n"
   ]
  },
  {
   "cell_type": "code",
   "execution_count": null,
   "id": "471901ec",
   "metadata": {},
   "outputs": [],
   "source": [
    "#check data\n",
    "np.shape(test)\n"
   ]
  },
  {
   "cell_type": "code",
   "execution_count": null,
   "id": "50ddcf86",
   "metadata": {},
   "outputs": [],
   "source": [
    "# plot frames\n",
    "plt.rcParams[\"figure.figsize\"] = (13,13)\n",
    "\n",
    "L = len(test)\n",
    "row = int(np.sqrt(L))\n",
    "col = int(L/row) + 1\n",
    "\n",
    "for i in range(L):\n",
    "    plt.subplot(row,col,i+1)\n",
    "    plt.imshow(test[i])\n",
    "    plt.title(\"frame {}\".format(i))\n",
    "    \n",
    "plt.tight_layout()\n",
    "plt.show()"
   ]
  },
  {
   "cell_type": "markdown",
   "id": "d1b317d4",
   "metadata": {},
   "source": [
    "### Triggered Mode"
   ]
  },
  {
   "cell_type": "code",
   "execution_count": null,
   "id": "8ef7560f",
   "metadata": {},
   "outputs": [],
   "source": [
    "from nidaqmx.task import Task"
   ]
  },
  {
   "cell_type": "code",
   "execution_count": null,
   "id": "ba45f2f5",
   "metadata": {},
   "outputs": [],
   "source": [
    "# Generate a Trigger   (depending on the ni board configuration you may need a single or multi channel task)\n",
    "task_sigle_channel= Task()\n",
    "task_sigle_channel.ao_channels.add_ao_voltage_chan(\"Dev3/ao0:0\")\n",
    "\n",
    "task_multi_channel= Task()\n",
    "task_multi_channel.ao_channels.add_ao_voltage_chan(\"Dev3/ao0:3\")"
   ]
  },
  {
   "cell_type": "code",
   "execution_count": null,
   "id": "fdf08ecf",
   "metadata": {},
   "outputs": [],
   "source": [
    "# Change camera trigger mode\n",
    "cam.trigger_mode = TriggerMode.EXTERNAL_TRIGGER"
   ]
  },
  {
   "cell_type": "code",
   "execution_count": null,
   "id": "5facf573",
   "metadata": {},
   "outputs": [],
   "source": [
    "#pulses to trigger the camera (the camera is actually triggered by the change from 5volt to 1volt or viceversa)\n",
    "cam_pulses = [5., 0., 5., 0., 5., 0., 5., 0.]\n"
   ]
  },
  {
   "cell_type": "code",
   "execution_count": null,
   "id": "19e904d9",
   "metadata": {},
   "outputs": [],
   "source": [
    "#multi channel\n",
    "\n",
    "loop_test = []\n",
    "cam.start_acquisition()\n",
    "\n",
    "#loop trough the pulses and write them\n",
    "for i in cam_pulses:\n",
    "    \n",
    "    #multi channel input\n",
    "    z_array = np.zeros((4, 1))\n",
    "    z_array[3, :] = i\n",
    "    \n",
    "    task_multi_channel.write(z_array, auto_start=True)\n",
    "    \n",
    "    #delay\n",
    "    sleep(1)\n",
    "    \n",
    "    #readout\n",
    "    loop_test.append(cam.get_frames())\n",
    "\n",
    "\n",
    "\n",
    "cam.stop_acquisition()"
   ]
  },
  {
   "cell_type": "code",
   "execution_count": null,
   "id": "121bad84",
   "metadata": {},
   "outputs": [],
   "source": [
    "#single channel\n",
    "\n",
    "loop_test = []\n",
    "cam.start_acquisition()\n",
    "\n",
    "#loop trough the pulses and write them\n",
    "for pulse in cam_pulses:\n",
    "    \n",
    "    task_sigle_channel.write(pulse, auto_start=True)\n",
    "    \n",
    "    #delay\n",
    "    sleep(1)\n",
    "    \n",
    "    #readout\n",
    "    loop_test.append(cam.get_frames())\n",
    "\n",
    "\n",
    "\n",
    "cam.stop_acquisition()"
   ]
  },
  {
   "cell_type": "code",
   "execution_count": null,
   "id": "40706831",
   "metadata": {},
   "outputs": [],
   "source": [
    "#filter loop (in some cases the voltage went from high-to-low and didn't trigger the camera)\n",
    "print(\"len of loop_test before: {}\".format(len(loop_test)))\n",
    "for item in loop_test:\n",
    "    if len(item)==0:\n",
    "        loop_test.remove(item)\n",
    "        \n",
    "print(\"len of loop_test after: {}\".format(len(loop_test)))"
   ]
  },
  {
   "cell_type": "code",
   "execution_count": null,
   "id": "3dd98b60",
   "metadata": {},
   "outputs": [],
   "source": [
    "# plot frames\n",
    "plt.rcParams[\"figure.figsize\"] = (13,13)\n",
    "\n",
    "L = len(loop_test)\n",
    "row = int(np.sqrt(L))\n",
    "col = int(L/row) + 1\n",
    "\n",
    "for i in range(L):\n",
    "    plt.subplot(row,col,i+1)\n",
    "    plt.imshow(loop_test[i][0])\n",
    "    plt.title(\"frame {}\".format(i))\n",
    "    \n",
    "plt.tight_layout()\n",
    "plt.show()"
   ]
  }
 ],
 "metadata": {
  "kernelspec": {
   "display_name": "Python 3.8.13 ('testing_sashimi')",
   "language": "python",
   "name": "python3"
  },
  "language_info": {
   "codemirror_mode": {
    "name": "ipython",
    "version": 3
   },
   "file_extension": ".py",
   "mimetype": "text/x-python",
   "name": "python",
   "nbconvert_exporter": "python",
   "pygments_lexer": "ipython3",
   "version": "3.8.13"
  },
  "vscode": {
   "interpreter": {
    "hash": "d5d40dc42aa679a438fb56904638dd252c8e063e3db2a4fbb741a4b2098db3db"
   }
  }
 },
 "nbformat": 4,
 "nbformat_minor": 5
}
