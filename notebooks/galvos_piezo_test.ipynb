{
 "cells": [
  {
   "cell_type": "code",
   "execution_count": null,
   "id": "c3f8e248-70d3-4832-9673-f3e16e6a81f6",
   "metadata": {},
   "outputs": [],
   "source": [
    "from sashimi.hardware.scanning.ni import *\n",
    "from nidaqmx.task import Task\n",
    "from sashimi.config import read_config\n",
    "from sashimi.waveforms import SawtoothWaveform, TriangleWaveform\n",
    "\n",
    "import time\n",
    "import matplotlib.pyplot as plt\n",
    "import numpy as np\n",
    "\n",
    "conf = read_config()"
   ]
  },
  {
   "cell_type": "markdown",
   "id": "e3cbf9b0-4322-4f22-8d36-270de1633339",
   "metadata": {},
   "source": [
    "# Test Hardware (without direct compatibility with sashimi)"
   ]
  },
  {
   "cell_type": "code",
   "execution_count": null,
   "id": "b4be9f9e-8926-4e29-966e-fa2cc3f4ba4d",
   "metadata": {},
   "outputs": [],
   "source": [
    "# Generate a Trigger  \n",
    "#z galvos and xy galvos\n",
    "\n",
    "write_task= Task()\n",
    "write_task.ao_channels.add_ao_voltage_chan(\"Dev1/ao1:0\")\n"
   ]
  },
  {
   "cell_type": "markdown",
   "id": "26bddc83-2901-4c4b-9773-c7bf07ed859c",
   "metadata": {},
   "source": [
    "# Galvos\n",
    "To test a single galvo just connect the cable to the correct channel on the NI board or change the channel in the previous cell"
   ]
  },
  {
   "cell_type": "code",
   "execution_count": null,
   "id": "42a7cc08-e3b1-413a-909e-1a57afa45884",
   "metadata": {},
   "outputs": [],
   "source": [
    "#init variables\n",
    "\n",
    "n_samples = 1000  # number of samples to write \n",
    "sample_rate= 400  # sample rate\n",
    "\n",
    "#min max waveform\n",
    "lateral_waveform_min = 0 \n",
    "lateral_waveform_max = 3\n",
    "\n",
    "frequency =2.\n",
    "\n",
    "waveform = TriangleWaveform(\n",
    "            frequency=frequency,\n",
    "            vmin=lateral_waveform_min,\n",
    "            vmax=lateral_waveform_max,\n",
    "        )"
   ]
  },
  {
   "cell_type": "code",
   "execution_count": null,
   "id": "ef128f87-835a-4716-8396-afbb195d0ccb",
   "metadata": {},
   "outputs": [],
   "source": [
    "# init time array\n",
    "t = np.arange(n_samples) / sample_rate\n",
    "shifted_time = t.copy()"
   ]
  },
  {
   "cell_type": "code",
   "execution_count": null,
   "id": "3c5e51c1-9e6a-4096-968e-487274f8469c",
   "metadata": {},
   "outputs": [],
   "source": [
    "in_array = np.zeros(n_samples)"
   ]
  },
  {
   "cell_type": "code",
   "execution_count": null,
   "id": "1d740503-f224-47cd-b7ec-b87840bb309d",
   "metadata": {},
   "outputs": [],
   "source": [
    "#sample loop to move the galvo\n",
    "\n",
    "t_start = time.time()\n",
    "i=0\n",
    "while time.time() - t_start < 7:  #loops for 7 sec\n",
    "    \n",
    "    i_sample +=10  #next sample\n",
    "\n",
    "    shifted_time[:] = t + i_sample / sample_rate  #update time array\n",
    "    \n",
    "    in_array[:] = waveform.values(shifted_time)  #update waveform array\n",
    "\n",
    "\n",
    "    write_task.write(in_array[i], auto_start=True)  #write waveform array"
   ]
  },
  {
   "cell_type": "markdown",
   "id": "4c88e343-4a48-4b9b-9e11-79a92bfb75ce",
   "metadata": {},
   "source": [
    "# Piezo\n",
    "To test the piezo just connect the cable to the correct channel on the NI board or change the channel in the write task cell"
   ]
  },
  {
   "cell_type": "code",
   "execution_count": null,
   "id": "73db2d77-19e9-4409-84de-c98a405db19c",
   "metadata": {},
   "outputs": [],
   "source": [
    "#min max piezo\n",
    "piezo_min = 30\n",
    "piezo_max = 300\n",
    "\n",
    "#frequency\n",
    "frequency_piezo = 2."
   ]
  },
  {
   "cell_type": "code",
   "execution_count": null,
   "id": "9cf318f1-177a-43a2-a5a6-0dd738661304",
   "metadata": {},
   "outputs": [],
   "source": [
    "waveform_piezo = SawtoothWaveform(\n",
    "            frequency=frequency_piezo,\n",
    "            vmin=piezo_min,\n",
    "            vmax=piezo_max,\n",
    "        )"
   ]
  },
  {
   "cell_type": "code",
   "execution_count": null,
   "id": "55725cba-1e4e-4f4b-8e72-5a7d3c36859d",
   "metadata": {},
   "outputs": [],
   "source": [
    "#init time array and array where to write input\n",
    "\n",
    "t = np.arange(n_samples) / sample_rate\n",
    "shifted_time = t.copy()\n",
    "in_array = np.zeros(n_samples)\n",
    "scale =0.025 # scale factor from input to actual value to write"
   ]
  },
  {
   "cell_type": "code",
   "execution_count": null,
   "id": "2550070e-71d2-4a2c-81a9-bc0191543a64",
   "metadata": {},
   "outputs": [],
   "source": [
    "#sample loop to move the piezo\n",
    "\n",
    "t_start = time.time()\n",
    "i=0\n",
    "while time.time() - t_start < 7:  #loops for 7 sec\n",
    "    \n",
    "    i_sample +=10  #next sample\n",
    "\n",
    "    shifted_time[:] = t + i_sample / sample_rate  #update time array\n",
    "    \n",
    "    in_array[:] = waveform_piezo.values(shifted_time) * scale  #update waveform array\n",
    "\n",
    "\n",
    "    write_task.write(in_array[i], auto_start=True)  #write waveform array"
   ]
  },
  {
   "cell_type": "markdown",
   "id": "48021b25-6ccd-4e4e-bbb6-4e5cb4cade61",
   "metadata": {},
   "source": [
    "# Test Hardware (direct compatibility with sashimi)"
   ]
  },
  {
   "cell_type": "code",
   "execution_count": 78,
   "id": "ddb06e3c",
   "metadata": {},
   "outputs": [
    {
     "data": {
      "text/plain": [
       "AOChannel(name=Dev1/ao0:1)"
      ]
     },
     "execution_count": 78,
     "metadata": {},
     "output_type": "execute_result"
    }
   ],
   "source": [
    "# Generate a Trigger  \n",
    "#z galvos and xy galvos\n",
    "\n",
    "write_task_z= Task()\n",
    "write_task_z.ao_channels.add_ao_voltage_chan(\"Dev1/ao1:3\")\n",
    "\n",
    "write_task_xy= Task()\n",
    "write_task_xy.ao_channels.add_ao_voltage_chan(\"Dev1/ao0:1\")"
   ]
  },
  {
   "cell_type": "markdown",
   "id": "a38db894",
   "metadata": {},
   "source": [
    "# Galvos"
   ]
  },
  {
   "cell_type": "code",
   "execution_count": 79,
   "id": "ae8e88f7",
   "metadata": {},
   "outputs": [],
   "source": [
    "#init variables\n",
    "\n",
    "n_samples = 1000  # number of samples to write \n",
    "sample_rate= 400  # sample rate\n",
    "\n",
    "#min max waveform\n",
    "lateral_waveform_min = 0 \n",
    "lateral_waveform_max = 3\n",
    "\n",
    "#frequency\n",
    "frequency_xy = 5.\n",
    "frequency_z =2.\n",
    "\n",
    "waveform_xy = TriangleWaveform(\n",
    "            frequency=frequency_xy,\n",
    "            vmin=lateral_waveform_min,\n",
    "            vmax=lateral_waveform_max,\n",
    "        )\n",
    "waveform_z = TriangleWaveform(\n",
    "            frequency=frequency_z,\n",
    "            vmin=lateral_waveform_min,\n",
    "            vmax=lateral_waveform_max,\n",
    "        )"
   ]
  },
  {
   "cell_type": "code",
   "execution_count": 81,
   "id": "e8a23909",
   "metadata": {},
   "outputs": [],
   "source": [
    "# init arrays where to write inputs\n",
    "xy_array = np.zeros((2, n_samples))\n",
    "z_array = np.zeros((4, n_samples))"
   ]
  },
  {
   "cell_type": "code",
   "execution_count": 82,
   "id": "78d694cb",
   "metadata": {},
   "outputs": [],
   "source": [
    "# init time array\n",
    "t = np.arange(n_samples) / sample_rate\n",
    "shifted_time = t.copy()"
   ]
  },
  {
   "cell_type": "code",
   "execution_count": 83,
   "id": "dba4ba50",
   "metadata": {},
   "outputs": [],
   "source": [
    "i_sample = 0\n",
    "\n",
    "shifted_time[:] = t + i_sample / sample_rate"
   ]
  },
  {
   "cell_type": "code",
   "execution_count": 84,
   "id": "a60b8a8c",
   "metadata": {},
   "outputs": [],
   "source": [
    "#fill arrays with initial values\n",
    "\n",
    "z_array[1,:] = waveform_z.values(shifted_time)\n",
    "z_array[2, :] = waveform_z.values(shifted_time)\n",
    "xy_array[0, :] = waveform_xy.values(shifted_time)\n",
    "xy_array[1, :] = waveform_xy.values(shifted_time)"
   ]
  },
  {
   "cell_type": "code",
   "execution_count": 89,
   "id": "34e4cd4e",
   "metadata": {},
   "outputs": [],
   "source": [
    "#sample loop to move the galvos in z\n",
    "\n",
    "t_start = time.time()\n",
    "i=0\n",
    "while time.time() - t_start < 7:  #loops for 7 sec\n",
    "    \n",
    "    i_sample +=10  #next sample\n",
    "\n",
    "    shifted_time[:] = t + i_sample / sample_rate  #update time array\n",
    "    \n",
    "    z_array[1, :] = waveform_z.values(shifted_time)  #update waveform array\n",
    "    z_array[2, :] = waveform_z.values(shifted_time)  #update waveform array\n",
    "\n",
    "    write_task_z.write(z_array, auto_start=True)  #write waveform array\n"
   ]
  },
  {
   "cell_type": "code",
   "execution_count": 59,
   "id": "880e91bd",
   "metadata": {},
   "outputs": [],
   "source": [
    "#sample loop to move the galvos in xy\n",
    "\n",
    "t_start = time.time()\n",
    "i = 0\n",
    "while time.time() - t_start < 7:  #loops for 7 sec\n",
    "    \n",
    "    i_sample +=1  #next sample\n",
    "\n",
    "    shifted_time[:] = t + i_sample / sample_rate   #update time array\n",
    "    \n",
    "    xy_array[0, :] = waveform_xy.values(shifted_time)  #update waveform array\n",
    "    xy_array[1, :] = waveform_xy.values(shifted_time)\n",
    "\n",
    "    write_task_xy.write(xy_array, auto_start=True)  #write waveform array"
   ]
  },
  {
   "cell_type": "markdown",
   "id": "36fe487d",
   "metadata": {},
   "source": [
    "# Piezo\n"
   ]
  },
  {
   "cell_type": "code",
   "execution_count": 10,
   "id": "f6af92e2",
   "metadata": {},
   "outputs": [],
   "source": [
    "#init variables\n",
    "\n",
    "n_samples = 1000  # number of samples to write \n",
    "sample_rate= 400  # sample rate\n",
    "\n",
    "#min max piezo\n",
    "piezo_min = 30\n",
    "piezo_max = 300\n",
    "\n",
    "#frequency\n",
    "frequency_piezo = 2.\n",
    "\n",
    "\n",
    "\n",
    "waveform_z = SawtoothWaveform(\n",
    "            frequency=frequency_piezo,\n",
    "            vmin=piezo_min,\n",
    "            vmax=piezo_max,\n",
    "        )"
   ]
  },
  {
   "cell_type": "code",
   "execution_count": 11,
   "id": "46a3ebbb",
   "metadata": {},
   "outputs": [],
   "source": [
    "#init time array and array where to write input\n",
    "\n",
    "t = np.arange(n_samples) / sample_rate\n",
    "shifted_time = t.copy()\n",
    "z_array = np.zeros((4, n_samples))\n",
    "scale =0.025 # scale factor from input to actual value to write"
   ]
  },
  {
   "cell_type": "code",
   "execution_count": 12,
   "id": "ed1bbbd7",
   "metadata": {},
   "outputs": [],
   "source": [
    "#sample loop to move the piezo\n",
    "t_start = time.time()\n",
    "i=0\n",
    "while time.time() - t_start < 10:\n",
    "    \n",
    "    i_sample +=1   #next sample\n",
    "\n",
    "    shifted_time[:] = t + i_sample / sample_rate  #update time array\n",
    "    \n",
    "    z_array[0, :] = waveform_z.values(shifted_time) * scale  #update waveform array\n",
    "\n",
    "    write_task_z.write(z_array, auto_start=True)  #write waveform array"
   ]
  },
  {
   "cell_type": "markdown",
   "id": "22649f9e-14b1-4874-a3ee-6fd1f032bf4e",
   "metadata": {},
   "source": []
  },
  {
   "cell_type": "code",
   "execution_count": null,
   "id": "3b34d24b-cca4-4e0e-80af-583a0b555ae8",
   "metadata": {},
   "outputs": [],
   "source": []
  }
 ],
 "metadata": {
  "kernelspec": {
   "display_name": "Python 3 (ipykernel)",
   "language": "python",
   "name": "python3"
  },
  "language_info": {
   "codemirror_mode": {
    "name": "ipython",
    "version": 3
   },
   "file_extension": ".py",
   "mimetype": "text/x-python",
   "name": "python",
   "nbconvert_exporter": "python",
   "pygments_lexer": "ipython3",
   "version": "3.8.13"
  },
  "vscode": {
   "interpreter": {
    "hash": "d5d40dc42aa679a438fb56904638dd252c8e063e3db2a4fbb741a4b2098db3db"
   }
  }
 },
 "nbformat": 4,
 "nbformat_minor": 5
}
