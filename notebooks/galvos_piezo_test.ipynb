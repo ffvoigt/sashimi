{
 "cells": [
  {
   "cell_type": "code",
   "execution_count": null,
   "id": "40fffb29",
   "metadata": {},
   "outputs": [],
   "source": [
    "from sashimi.hardware.scanning.ni import *\n",
    "from nidaqmx.task import Task\n",
    "from sashimi.config import read_config\n",
    "from sashimi.waveforms import SawtoothWaveform, TriangleWaveform\n",
    "\n",
    "import time\n",
    "import matplotlib.pyplot as plt\n",
    "import numpy as np\n",
    "\n",
    "conf = read_config()"
   ]
  },
  {
   "cell_type": "code",
   "execution_count": null,
   "id": "ddb06e3c",
   "metadata": {},
   "outputs": [],
   "source": [
    "# Generate a Trigger  \n",
    "#z galvos and xy galvos\n",
    "\n",
    "write_task_z= Task()\n",
    "write_task_z.ao_channels.add_ao_voltage_chan(\"Dev3/ao0:3\")\n",
    "\n",
    "write_task_xy= Task()\n",
    "write_task_xy.ao_channels.add_ao_voltage_chan(\"Dev2/ao0:1\")"
   ]
  },
  {
   "cell_type": "markdown",
   "id": "a38db894",
   "metadata": {},
   "source": [
    "# Galvos"
   ]
  },
  {
   "cell_type": "code",
   "execution_count": null,
   "id": "ae8e88f7",
   "metadata": {},
   "outputs": [],
   "source": [
    "#init variables\n",
    "\n",
    "n_samples = 1000  # number of samples to write \n",
    "sample_rate= 400  # sample rate\n",
    "\n",
    "#min max waveform\n",
    "lateral_waveform_min = 0 \n",
    "lateral_waveform_max = 2\n",
    "\n",
    "#frequency\n",
    "frequency_xy = 5.\n",
    "frequency_z =4.\n",
    "\n",
    "waveform_xy = TriangleWaveform(\n",
    "            frequency=frequency_xy,\n",
    "            vmin=lateral_waveform_min,\n",
    "            vmax=lateral_waveform_max,\n",
    "        )\n",
    "waveform_z = TriangleWaveform(\n",
    "            frequency=frequency_z,\n",
    "            vmin=lateral_waveform_min,\n",
    "            vmax=lateral_waveform_max,\n",
    "        )"
   ]
  },
  {
   "cell_type": "code",
   "execution_count": null,
   "id": "e8a23909",
   "metadata": {},
   "outputs": [],
   "source": [
    "# init arrays where to write inputs\n",
    "xy_array = np.zeros((2, n_samples))\n",
    "z_array = np.zeros((4, n_samples))"
   ]
  },
  {
   "cell_type": "code",
   "execution_count": null,
   "id": "78d694cb",
   "metadata": {},
   "outputs": [],
   "source": [
    "# init time array\n",
    "t = np.arange(n_samples) / sample_rate\n",
    "shifted_time = t.copy()"
   ]
  },
  {
   "cell_type": "code",
   "execution_count": null,
   "id": "dba4ba50",
   "metadata": {},
   "outputs": [],
   "source": [
    "i_sample = 0\n",
    "\n",
    "shifted_time[:] = t + i_sample / sample_rate"
   ]
  },
  {
   "cell_type": "code",
   "execution_count": null,
   "id": "a60b8a8c",
   "metadata": {},
   "outputs": [],
   "source": [
    "#fill arrays with initial values\n",
    "\n",
    "z_array[1, :] = waveform_z.values(shifted_time)\n",
    "z_array[2, :] = waveform_z.values(shifted_time)\n",
    "xy_array[0, :] = waveform_xy.values(shifted_time)\n",
    "xy_array[1, :] = waveform_xy.values(shifted_time)"
   ]
  },
  {
   "cell_type": "code",
   "execution_count": null,
   "id": "34e4cd4e",
   "metadata": {},
   "outputs": [],
   "source": [
    "#sample loop to move the galvos in z\n",
    "\n",
    "t_start = time.time()\n",
    "i=0\n",
    "while time.time() - t_start < 7:  #loops for 7 sec\n",
    "    \n",
    "    i_sample +=1  #next sample\n",
    "\n",
    "    shifted_time[:] = t + i_sample / sample_rate  #update time array\n",
    "    \n",
    "    z_array[1, :] = waveform_z.values(shifted_time)  #update waveform array\n",
    "    z_array[2, :] = waveform_z.values(shifted_time)\n",
    "\n",
    "    write_task_z.write(z_array, auto_start=True)  #write waveform array\n"
   ]
  },
  {
   "cell_type": "code",
   "execution_count": null,
   "id": "880e91bd",
   "metadata": {},
   "outputs": [],
   "source": [
    "#sample loop to move the galvos in xy\n",
    "\n",
    "t_start = time.time()\n",
    "i = 0\n",
    "while time.time() - t_start < 7:  #loops for 7 sec\n",
    "    \n",
    "    i_sample +=1  #next sample\n",
    "\n",
    "    shifted_time[:] = t + i_sample / sample_rate   #update time array\n",
    "    \n",
    "    xy_array[0, :] = waveform_xy.values(shifted_time)  #update waveform array\n",
    "    xy_array[1, :] = waveform_xy.values(shifted_time)\n",
    "\n",
    "    write_task_xy.write(xy_array, auto_start=True)  #write waveform array"
   ]
  },
  {
   "cell_type": "markdown",
   "id": "36fe487d",
   "metadata": {},
   "source": [
    "# Piezo\n"
   ]
  },
  {
   "cell_type": "code",
   "execution_count": null,
   "id": "f6af92e2",
   "metadata": {},
   "outputs": [],
   "source": [
    "#init variables\n",
    "\n",
    "n_samples = 1000  # number of samples to write \n",
    "sample_rate= 400  # sample rate\n",
    "\n",
    "#min max piezo\n",
    "piezo_min = 30\n",
    "piezo_max = 300\n",
    "\n",
    "#frequency\n",
    "frequency_piezo = 2.\n",
    "\n",
    "\n",
    "\n",
    "waveform_z = SawtoothWaveform(\n",
    "            frequency=frequency_piezo,\n",
    "            vmin=piezo_min,\n",
    "            vmax=piezo_max,\n",
    "        )"
   ]
  },
  {
   "cell_type": "code",
   "execution_count": null,
   "id": "46a3ebbb",
   "metadata": {},
   "outputs": [],
   "source": [
    "#init time array and array where to write input\n",
    "\n",
    "t = np.arange(n_samples) / sample_rate\n",
    "shifted_time = t.copy()\n",
    "z_array = np.zeros((4, n_samples))\n",
    "scale =0.025 # scale factor from input to actual value to write"
   ]
  },
  {
   "cell_type": "code",
   "execution_count": null,
   "id": "ed1bbbd7",
   "metadata": {},
   "outputs": [],
   "source": [
    "#sample loop to move the piezo\n",
    "t_start = time.time()\n",
    "i=0\n",
    "while time.time() - t_start < 10:\n",
    "    \n",
    "    i_sample +=1   #next sample\n",
    "\n",
    "    shifted_time[:] = t + i_sample / sample_rate  #update time array\n",
    "    \n",
    "    z_array[0, :] = waveform_z.values(shifted_time) * scale  #update waveform array\n",
    "\n",
    "    write_task_z.write(z_array, auto_start=True)  #write waveform array"
   ]
  },
  {
   "cell_type": "code",
   "execution_count": null,
   "id": "f78eb8b0",
   "metadata": {},
   "outputs": [],
   "source": []
  }
 ],
 "metadata": {
  "kernelspec": {
   "display_name": "Python 3.8.13 ('testing_sashimi')",
   "language": "python",
   "name": "python3"
  },
  "language_info": {
   "codemirror_mode": {
    "name": "ipython",
    "version": 3
   },
   "file_extension": ".py",
   "mimetype": "text/x-python",
   "name": "python",
   "nbconvert_exporter": "python",
   "pygments_lexer": "ipython3",
   "version": "3.8.13"
  },
  "vscode": {
   "interpreter": {
    "hash": "d5d40dc42aa679a438fb56904638dd252c8e063e3db2a4fbb741a4b2098db3db"
   }
  }
 },
 "nbformat": 4,
 "nbformat_minor": 5
}
