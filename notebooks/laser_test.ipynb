{
 "cells": [
  {
   "cell_type": "code",
   "execution_count": 2,
   "id": "40fffb29",
   "metadata": {},
   "outputs": [],
   "source": [
    "from sashimi.hardware.light_source.cobolt import *\n",
    "import time"
   ]
  },
  {
   "cell_type": "markdown",
   "id": "6d733cef",
   "metadata": {},
   "source": [
    "# Cobolt Laser\n",
    "\n",
    "This should work seamlessly in sashimi as long as the \"com\" property is changed accordingly on the config file"
   ]
  },
  {
   "cell_type": "code",
   "execution_count": 3,
   "id": "1a21c37f",
   "metadata": {},
   "outputs": [],
   "source": [
    "#init the port \n",
    "port = \"COM3\""
   ]
  },
  {
   "cell_type": "code",
   "execution_count": 4,
   "id": "798d3ca8",
   "metadata": {},
   "outputs": [],
   "source": [
    "#init the laser obj\n",
    "laser = CoboltLaser(port)"
   ]
  },
  {
   "cell_type": "code",
   "execution_count": 6,
   "id": "d2173f58",
   "metadata": {},
   "outputs": [],
   "source": [
    "# blink loop \n",
    "for i in range(3):\n",
    "    laser.intensity = 0  #off\n",
    "    time.sleep(1)\n",
    "    laser.intensity = 30 #on \n",
    "    time.sleep(1)\n",
    "    laser.intensity = 0  #off\n",
    "    time.sleep(1)"
   ]
  },
  {
   "cell_type": "code",
   "execution_count": null,
   "id": "70fbd332",
   "metadata": {},
   "outputs": [],
   "source": []
  }
 ],
 "metadata": {
  "kernelspec": {
   "display_name": "Python 3 (ipykernel)",
   "language": "python",
   "name": "python3"
  },
  "language_info": {
   "codemirror_mode": {
    "name": "ipython",
    "version": 3
   },
   "file_extension": ".py",
   "mimetype": "text/x-python",
   "name": "python",
   "nbconvert_exporter": "python",
   "pygments_lexer": "ipython3",
   "version": "3.8.13"
  },
  "vscode": {
   "interpreter": {
    "hash": "d5d40dc42aa679a438fb56904638dd252c8e063e3db2a4fbb741a4b2098db3db"
   }
  }
 },
 "nbformat": 4,
 "nbformat_minor": 5
}
